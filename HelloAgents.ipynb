{
  "nbformat": 4,
  "nbformat_minor": 0,
  "metadata": {
    "colab": {
      "provenance": [],
      "authorship_tag": "ABX9TyMW/y2L8T/ic4xeMV5SDhDh",
      "include_colab_link": true
    },
    "kernelspec": {
      "name": "python3",
      "display_name": "Python 3"
    },
    "language_info": {
      "name": "python"
    }
  },
  "cells": [
    {
      "cell_type": "markdown",
      "metadata": {
        "id": "view-in-github",
        "colab_type": "text"
      },
      "source": [
        "<a href=\"https://colab.research.google.com/github/nehagovekar/GEN-AI-Projects/blob/main/HelloAgents.ipynb\" target=\"_parent\"><img src=\"https://colab.research.google.com/assets/colab-badge.svg\" alt=\"Open In Colab\"/></a>"
      ]
    },
    {
      "cell_type": "code",
      "execution_count": 1,
      "metadata": {
        "id": "mFw271SQ3ctM"
      },
      "outputs": [],
      "source": [
        "import time\n",
        "\n",
        "class Message:\n",
        "    \"\"\"Simple message for agent communication\"\"\"\n",
        "    def __init__(self, sender, receiver, content):\n",
        "        self.sender = sender\n",
        "        self.receiver = receiver\n",
        "        self.content = content\n",
        "        self.timestamp = time.time()\n",
        "\n",
        "    def __str__(self):\n",
        "        return f\"[{self.sender} → {self.receiver}]: {self.content}\"\n",
        "\n",
        "\n",
        "\n"
      ]
    },
    {
      "cell_type": "code",
      "source": [
        "class Agent:\n",
        "    \"\"\"Basic agent that can send and receive messages\"\"\"\n",
        "    def __init__(self, name):\n",
        "        self.name = name\n",
        "        self.inbox = []\n",
        "        self.outbox = []\n",
        "\n",
        "    def receive_message(self, message):\n",
        "        \"\"\"Add a message to this agent's inbox\"\"\"\n",
        "        self.inbox.append(message)\n",
        "        print(f\"{self.name} received: {message}\")\n",
        "\n",
        "    def send_message(self, receiver, content):\n",
        "        \"\"\"Create a message and add it to outbox\"\"\"\n",
        "        message = Message(self.name, receiver, content)\n",
        "        self.outbox.append(message)\n",
        "        print(f\"{self.name} sent: {message}\")\n",
        "\n",
        "    def process_messages(self):\n",
        "        \"\"\"Process all messages in the inbox\"\"\"\n",
        "        for message in self.inbox:\n",
        "            self.handle_message(message)\n",
        "        self.inbox = []\n",
        "\n",
        "    def handle_message(self, message):\n",
        "        \"\"\"Each agent type implements its own message handling\"\"\"\n",
        "        pass\n",
        "\n",
        "    def take_action(self):\n",
        "        \"\"\"Each agent type implements its own actions\"\"\"\n",
        "        pass\n",
        "\n",
        "    def step(self):\n",
        "        \"\"\"Run one cycle of the agent's behavior\"\"\"\n",
        "        self.process_messages()\n",
        "        self.take_action()\n",
        "\n"
      ],
      "metadata": {
        "id": "kZFvmNPvi8FF"
      },
      "execution_count": 2,
      "outputs": []
    },
    {
      "cell_type": "code",
      "source": [],
      "metadata": {
        "id": "S-tg5XdJ3dN9"
      },
      "execution_count": null,
      "outputs": []
    }
  ]
}