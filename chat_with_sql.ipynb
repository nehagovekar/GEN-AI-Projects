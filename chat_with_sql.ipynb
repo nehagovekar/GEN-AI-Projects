{
 "cells": [
  {
   "cell_type": "code",
   "execution_count": 35,
   "metadata": {},
   "outputs": [
    {
     "name": "stdout",
     "output_type": "stream",
     "text": [
      "Requirement already satisfied: langchain in /Users/nehagovekar/anaconda3/lib/python3.11/site-packages (0.2.15)\n",
      "Requirement already satisfied: PyYAML>=5.3 in /Users/nehagovekar/anaconda3/lib/python3.11/site-packages (from langchain) (6.0)\n",
      "Requirement already satisfied: SQLAlchemy<3,>=1.4 in /Users/nehagovekar/anaconda3/lib/python3.11/site-packages (from langchain) (1.4.39)\n",
      "Requirement already satisfied: aiohttp<4.0.0,>=3.8.3 in /Users/nehagovekar/anaconda3/lib/python3.11/site-packages (from langchain) (3.8.3)\n",
      "Requirement already satisfied: langchain-core<0.3.0,>=0.2.35 in /Users/nehagovekar/anaconda3/lib/python3.11/site-packages (from langchain) (0.2.37)\n",
      "Requirement already satisfied: langchain-text-splitters<0.3.0,>=0.2.0 in /Users/nehagovekar/anaconda3/lib/python3.11/site-packages (from langchain) (0.2.2)\n",
      "Requirement already satisfied: langsmith<0.2.0,>=0.1.17 in /Users/nehagovekar/anaconda3/lib/python3.11/site-packages (from langchain) (0.1.108)\n",
      "Requirement already satisfied: numpy<2,>=1 in /Users/nehagovekar/anaconda3/lib/python3.11/site-packages (from langchain) (1.24.3)\n",
      "Requirement already satisfied: pydantic<3,>=1 in /Users/nehagovekar/anaconda3/lib/python3.11/site-packages (from langchain) (2.5.3)\n",
      "Requirement already satisfied: requests<3,>=2 in /Users/nehagovekar/anaconda3/lib/python3.11/site-packages (from langchain) (2.31.0)\n",
      "Requirement already satisfied: tenacity!=8.4.0,<9.0.0,>=8.1.0 in /Users/nehagovekar/anaconda3/lib/python3.11/site-packages (from langchain) (8.2.2)\n",
      "Requirement already satisfied: attrs>=17.3.0 in /Users/nehagovekar/anaconda3/lib/python3.11/site-packages (from aiohttp<4.0.0,>=3.8.3->langchain) (22.1.0)\n",
      "Requirement already satisfied: charset-normalizer<3.0,>=2.0 in /Users/nehagovekar/anaconda3/lib/python3.11/site-packages (from aiohttp<4.0.0,>=3.8.3->langchain) (2.0.4)\n",
      "Requirement already satisfied: multidict<7.0,>=4.5 in /Users/nehagovekar/anaconda3/lib/python3.11/site-packages (from aiohttp<4.0.0,>=3.8.3->langchain) (6.0.2)\n",
      "Requirement already satisfied: async-timeout<5.0,>=4.0.0a3 in /Users/nehagovekar/anaconda3/lib/python3.11/site-packages (from aiohttp<4.0.0,>=3.8.3->langchain) (4.0.2)\n",
      "Requirement already satisfied: yarl<2.0,>=1.0 in /Users/nehagovekar/anaconda3/lib/python3.11/site-packages (from aiohttp<4.0.0,>=3.8.3->langchain) (1.8.1)\n",
      "Requirement already satisfied: frozenlist>=1.1.1 in /Users/nehagovekar/anaconda3/lib/python3.11/site-packages (from aiohttp<4.0.0,>=3.8.3->langchain) (1.3.3)\n",
      "Requirement already satisfied: aiosignal>=1.1.2 in /Users/nehagovekar/anaconda3/lib/python3.11/site-packages (from aiohttp<4.0.0,>=3.8.3->langchain) (1.2.0)\n",
      "Requirement already satisfied: jsonpatch<2.0,>=1.33 in /Users/nehagovekar/anaconda3/lib/python3.11/site-packages (from langchain-core<0.3.0,>=0.2.35->langchain) (1.33)\n",
      "Requirement already satisfied: packaging<25,>=23.2 in /Users/nehagovekar/anaconda3/lib/python3.11/site-packages (from langchain-core<0.3.0,>=0.2.35->langchain) (24.1)\n",
      "Requirement already satisfied: typing-extensions>=4.7 in /Users/nehagovekar/anaconda3/lib/python3.11/site-packages (from langchain-core<0.3.0,>=0.2.35->langchain) (4.12.2)\n",
      "Requirement already satisfied: httpx<1,>=0.23.0 in /Users/nehagovekar/anaconda3/lib/python3.11/site-packages (from langsmith<0.2.0,>=0.1.17->langchain) (0.27.0)\n",
      "Requirement already satisfied: orjson<4.0.0,>=3.9.14 in /Users/nehagovekar/anaconda3/lib/python3.11/site-packages (from langsmith<0.2.0,>=0.1.17->langchain) (3.10.7)\n",
      "Requirement already satisfied: annotated-types>=0.4.0 in /Users/nehagovekar/anaconda3/lib/python3.11/site-packages (from pydantic<3,>=1->langchain) (0.6.0)\n",
      "Requirement already satisfied: pydantic-core==2.14.6 in /Users/nehagovekar/anaconda3/lib/python3.11/site-packages (from pydantic<3,>=1->langchain) (2.14.6)\n",
      "Requirement already satisfied: idna<4,>=2.5 in /Users/nehagovekar/anaconda3/lib/python3.11/site-packages (from requests<3,>=2->langchain) (3.4)\n",
      "Requirement already satisfied: urllib3<3,>=1.21.1 in /Users/nehagovekar/anaconda3/lib/python3.11/site-packages (from requests<3,>=2->langchain) (1.26.16)\n",
      "Requirement already satisfied: certifi>=2017.4.17 in /Users/nehagovekar/anaconda3/lib/python3.11/site-packages (from requests<3,>=2->langchain) (2023.7.22)\n",
      "Requirement already satisfied: anyio in /Users/nehagovekar/anaconda3/lib/python3.11/site-packages (from httpx<1,>=0.23.0->langsmith<0.2.0,>=0.1.17->langchain) (3.5.0)\n",
      "Requirement already satisfied: httpcore==1.* in /Users/nehagovekar/anaconda3/lib/python3.11/site-packages (from httpx<1,>=0.23.0->langsmith<0.2.0,>=0.1.17->langchain) (1.0.5)\n",
      "Requirement already satisfied: sniffio in /Users/nehagovekar/anaconda3/lib/python3.11/site-packages (from httpx<1,>=0.23.0->langsmith<0.2.0,>=0.1.17->langchain) (1.2.0)\n",
      "Requirement already satisfied: h11<0.15,>=0.13 in /Users/nehagovekar/anaconda3/lib/python3.11/site-packages (from httpcore==1.*->httpx<1,>=0.23.0->langsmith<0.2.0,>=0.1.17->langchain) (0.14.0)\n",
      "Requirement already satisfied: jsonpointer>=1.9 in /Users/nehagovekar/anaconda3/lib/python3.11/site-packages (from jsonpatch<2.0,>=1.33->langchain-core<0.3.0,>=0.2.35->langchain) (2.1)\n",
      "Requirement already satisfied: openai in /Users/nehagovekar/anaconda3/lib/python3.11/site-packages (1.41.0)\n",
      "Requirement already satisfied: anyio<5,>=3.5.0 in /Users/nehagovekar/anaconda3/lib/python3.11/site-packages (from openai) (3.5.0)\n",
      "Requirement already satisfied: distro<2,>=1.7.0 in /Users/nehagovekar/anaconda3/lib/python3.11/site-packages (from openai) (1.9.0)\n",
      "Requirement already satisfied: httpx<1,>=0.23.0 in /Users/nehagovekar/anaconda3/lib/python3.11/site-packages (from openai) (0.27.0)\n",
      "Requirement already satisfied: jiter<1,>=0.4.0 in /Users/nehagovekar/anaconda3/lib/python3.11/site-packages (from openai) (0.5.0)\n",
      "Requirement already satisfied: pydantic<3,>=1.9.0 in /Users/nehagovekar/anaconda3/lib/python3.11/site-packages (from openai) (2.5.3)\n",
      "Requirement already satisfied: sniffio in /Users/nehagovekar/anaconda3/lib/python3.11/site-packages (from openai) (1.2.0)\n",
      "Requirement already satisfied: tqdm>4 in /Users/nehagovekar/anaconda3/lib/python3.11/site-packages (from openai) (4.65.0)\n",
      "Requirement already satisfied: typing-extensions<5,>=4.11 in /Users/nehagovekar/anaconda3/lib/python3.11/site-packages (from openai) (4.12.2)\n",
      "Requirement already satisfied: idna>=2.8 in /Users/nehagovekar/anaconda3/lib/python3.11/site-packages (from anyio<5,>=3.5.0->openai) (3.4)\n",
      "Requirement already satisfied: certifi in /Users/nehagovekar/anaconda3/lib/python3.11/site-packages (from httpx<1,>=0.23.0->openai) (2023.7.22)\n",
      "Requirement already satisfied: httpcore==1.* in /Users/nehagovekar/anaconda3/lib/python3.11/site-packages (from httpx<1,>=0.23.0->openai) (1.0.5)\n",
      "Requirement already satisfied: h11<0.15,>=0.13 in /Users/nehagovekar/anaconda3/lib/python3.11/site-packages (from httpcore==1.*->httpx<1,>=0.23.0->openai) (0.14.0)\n",
      "Requirement already satisfied: annotated-types>=0.4.0 in /Users/nehagovekar/anaconda3/lib/python3.11/site-packages (from pydantic<3,>=1.9.0->openai) (0.6.0)\n",
      "Requirement already satisfied: pydantic-core==2.14.6 in /Users/nehagovekar/anaconda3/lib/python3.11/site-packages (from pydantic<3,>=1.9.0->openai) (2.14.6)\n"
     ]
    }
   ],
   "source": [
    "#important libraries which we need to install\n",
    "!pip install langchain\n",
    "!pip install openai\n",
    "\n"
   ]
  },
  {
   "cell_type": "markdown",
   "metadata": {},
   "source": [
    "###SETTING UP THE OPENAI API KEY IN THE OS ENVIRONMENT\n",
    "\n"
   ]
  },
  {
   "cell_type": "code",
   "execution_count": 36,
   "metadata": {},
   "outputs": [],
   "source": [
    "import os\n",
    "os.environ[\"OPENAI_API_KEY\"]=\"sk-xyz\"\n",
    "import openai\n",
    "openai.api_key=\"sk-xyz\"\n"
   ]
  },
  {
   "cell_type": "markdown",
   "metadata": {},
   "source": [
    "IMPORTING ALL THE NECESSARY LIBRARIES\n"
   ]
  },
  {
   "cell_type": "code",
   "execution_count": 37,
   "metadata": {},
   "outputs": [
    {
     "name": "stdout",
     "output_type": "stream",
     "text": [
      "Requirement already satisfied: pymysql in /Users/nehagovekar/anaconda3/lib/python3.11/site-packages (1.1.1)\n"
     ]
    }
   ],
   "source": [
    "!pip install pymysql"
   ]
  },
  {
   "cell_type": "code",
   "execution_count": 38,
   "metadata": {},
   "outputs": [],
   "source": [
    "#import all necessary lib\n",
    "import os\n",
    "from langchain.agents import *\n",
    "from langchain.llms import OpenAI\n",
    "from langchain.sql_database import SQLDatabase #to connect to the sql server\n",
    "from langchain.agents.agent_toolkits import SQLDatabaseToolkit #agent to decide how execution will work\n",
    "from langchain.agents import AgentExecutor \n",
    "\n"
   ]
  },
  {
   "cell_type": "code",
   "execution_count": 39,
   "metadata": {},
   "outputs": [],
   "source": [
    "###connect to your database"
   ]
  },
  {
   "cell_type": "markdown",
   "metadata": {},
   "source": []
  },
  {
   "cell_type": "code",
   "execution_count": 40,
   "metadata": {},
   "outputs": [],
   "source": [
    "import urllib.parse\n",
    "\n",
    "db_user= \"root\"\n",
    "db_password= urllib.parse.quote_plus(\"neha@2016\")\n",
    "db_host= \"localhost\"\n",
    "db_name = \"SchoolSchedulingDB\"\n",
    "\n",
    "db = SQLDatabase.from_uri(f\"mysql+pymysql://{db_user}:{db_password}@{db_host}/{db_name}\")\n",
    "\n",
    "\n"
   ]
  },
  {
   "cell_type": "markdown",
   "metadata": {},
   "source": [
    "###SET UP THE LLM, TOOLKIT AND AGENT EXECUTER"
   ]
  },
  {
   "cell_type": "code",
   "execution_count": 49,
   "metadata": {},
   "outputs": [],
   "source": [
    "#INITIALIZING THE LLM MODEL\n",
    "from langchain.chat_models import ChatOpenAI\n",
    "llm = ChatOpenAI(model_name = \"gpt-4\")\n",
    "\n",
    "                 "
   ]
  },
  {
   "cell_type": "code",
   "execution_count": 50,
   "metadata": {},
   "outputs": [],
   "source": [
    "toolkit = SQLDatabaseToolkit(db=db, llm=llm)"
   ]
  },
  {
   "cell_type": "code",
   "execution_count": 51,
   "metadata": {},
   "outputs": [],
   "source": [
    "agent_executer = create_sql_agent(llm=llm, toolkit=toolkit, verbose=True)"
   ]
  },
  {
   "cell_type": "code",
   "execution_count": 52,
   "metadata": {},
   "outputs": [
    {
     "name": "stdout",
     "output_type": "stream",
     "text": [
      "\n",
      "\n",
      "\u001b[1m> Entering new SQL Agent Executor chain...\u001b[0m\n",
      "\u001b[32;1m\u001b[1;3mAction: sql_db_list_tables\n",
      "Action Input: \"\"\u001b[0m\u001b[38;5;200m\u001b[1;3mbuildings, categories, class_rooms, classes, departments, faculty, faculty_categories, faculty_classes, faculty_subjects, majors, staff, student_class_status, student_schedules, students, subjects, ztblgendermatrix, ztbllettergrades, ztblmaritalstatusmatrix, ztblprofratings, ztblsemesterdays, ztblsequencenos\u001b[0m\u001b[32;1m\u001b[1;3mI now know the final answer.\n",
      "Final Answer: We have 21 tables.\u001b[0m\n",
      "\n",
      "\u001b[1m> Finished chain.\u001b[0m\n"
     ]
    },
    {
     "data": {
      "text/plain": [
       "'We have 21 tables.'"
      ]
     },
     "execution_count": 52,
     "metadata": {},
     "output_type": "execute_result"
    }
   ],
   "source": [
    "agent_executer.run(\"How many tables do we have?\")\n"
   ]
  },
  {
   "cell_type": "code",
   "execution_count": 53,
   "metadata": {},
   "outputs": [
    {
     "name": "stdout",
     "output_type": "stream",
     "text": [
      "\n",
      "\n",
      "\u001b[1m> Entering new SQL Agent Executor chain...\u001b[0m\n",
      "\u001b[32;1m\u001b[1;3mAction: sql_db_list_tables\n",
      "Action Input: \"\"\u001b[0m\u001b[38;5;200m\u001b[1;3mbuildings, categories, class_rooms, classes, departments, faculty, faculty_categories, faculty_classes, faculty_subjects, majors, staff, student_class_status, student_schedules, students, subjects, ztblgendermatrix, ztbllettergrades, ztblmaritalstatusmatrix, ztblprofratings, ztblsemesterdays, ztblsequencenos\u001b[0m\u001b[32;1m\u001b[1;3mThe most relevant table here seems to be \"student_schedules\". I need to check the schema of this table to understand its structure and what kind of data it holds.\n",
      "Action: sql_db_schema\n",
      "Action Input: \"student_schedules\"\u001b[0m\u001b[33;1m\u001b[1;3m\n",
      "CREATE TABLE student_schedules (\n",
      "\t`StudentID` INTEGER NOT NULL, \n",
      "\t`ClassID` INTEGER NOT NULL, \n",
      "\t`ClassStatus` INTEGER DEFAULT '0', \n",
      "\t`Grade` DOUBLE DEFAULT '0', \n",
      "\tPRIMARY KEY (`StudentID`, `ClassID`), \n",
      "\tCONSTRAINT `Student_Schedules_FK00` FOREIGN KEY(`ClassID`) REFERENCES classes (`ClassID`), \n",
      "\tCONSTRAINT `Student_Schedules_FK01` FOREIGN KEY(`ClassStatus`) REFERENCES student_class_status (`ClassStatus`), \n",
      "\tCONSTRAINT `Student_Schedules_FK02` FOREIGN KEY(`StudentID`) REFERENCES students (`StudentID`)\n",
      ")DEFAULT CHARSET=utf8mb4 COLLATE utf8mb4_0900_ai_ci ENGINE=InnoDB\n",
      "\n",
      "/*\n",
      "3 rows from student_schedules table:\n",
      "StudentID\tClassID\tClassStatus\tGrade\n",
      "1001\t1000\t2\t99.8300000000\n",
      "1001\t1168\t2\t70.0000000000\n",
      "1001\t2907\t2\t67.3300000000\n",
      "*/\u001b[0m\u001b[32;1m\u001b[1;3mThe table \"student_schedules\" doesn't seem to have information about the schedule for a specific day. However, there is another table \"classes\" that could potentially have the desired information. I need to check its schema.\n",
      "Action: sql_db_schema\n",
      "Action Input: \"classes\"\u001b[0m\u001b[33;1m\u001b[1;3m\n",
      "CREATE TABLE classes (\n",
      "\t`ClassID` INTEGER NOT NULL, \n",
      "\t`SubjectID` INTEGER DEFAULT '0', \n",
      "\t`ClassRoomID` INTEGER DEFAULT '0', \n",
      "\t`Credits` TINYINT DEFAULT '0', \n",
      "\t`SemesterNumber` SMALLINT, \n",
      "\t`StartDate` DATE, \n",
      "\t`StartTime` TIME, \n",
      "\t`Duration` SMALLINT DEFAULT '0', \n",
      "\t`MondaySchedule` BIT(1) NOT NULL, \n",
      "\t`TuesdaySchedule` BIT(1) NOT NULL, \n",
      "\t`WednesdaySchedule` BIT(1) NOT NULL, \n",
      "\t`ThursdaySchedule` BIT(1) NOT NULL, \n",
      "\t`FridaySchedule` BIT(1) NOT NULL, \n",
      "\t`SaturdaySchedule` BIT(1) NOT NULL, \n",
      "\tPRIMARY KEY (`ClassID`), \n",
      "\tCONSTRAINT `Classes_FK00` FOREIGN KEY(`ClassRoomID`) REFERENCES class_rooms (`ClassRoomID`), \n",
      "\tCONSTRAINT `Classes_FK01` FOREIGN KEY(`SubjectID`) REFERENCES subjects (`SubjectID`)\n",
      ")DEFAULT CHARSET=utf8mb4 COLLATE utf8mb4_0900_ai_ci ENGINE=InnoDB\n",
      "\n",
      "/*\n",
      "3 rows from classes table:\n",
      "ClassID\tSubjectID\tClassRoomID\tCredits\tSemesterNumber\tStartDate\tStartTime\tDuration\tMondaySchedule\tTuesdaySchedule\tWednesdaySchedule\tThursdaySchedule\tFridaySchedule\tSaturdaySchedule\n",
      "1000\t11\t1231\t5\t1\t2013-09-10\t10:00:00\t50\t0\t1\t1\t1\t1\t1\n",
      "1002\t12\t1619\t4\t1\t2013-09-09\t15:30:00\t110\t1\t0\t1\t0\t0\t0\n",
      "1004\t13\t1627\t4\t1\t2013-09-09\t08:00:00\t50\t1\t0\t1\t1\t1\t0\n",
      "*/\u001b[0m\u001b[32;1m\u001b[1;3mThe \"classes\" table has a column \"MondaySchedule\" which should indicate whether a class is scheduled for Monday or not. I can query this table to list classes that are scheduled for Monday. I should also include the \"StartTime\" and \"Duration\" columns in my query to provide more detailed information. But before executing the query, I should double-check it with sql_db_query_checker.\n",
      "Action: sql_db_query_checker\n",
      "Action Input: \"SELECT ClassID, StartTime, Duration FROM classes WHERE MondaySchedule = 1 LIMIT 10\"\u001b[0m\u001b[36;1m\u001b[1;3mSELECT ClassID, StartTime, Duration FROM classes WHERE MondaySchedule = 1 LIMIT 10\u001b[0m\u001b[32;1m\u001b[1;3mThe query seems to be correct. Now I can execute it.\n",
      "Action: sql_db_query\n",
      "Action Input: \"SELECT ClassID, StartTime, Duration FROM classes WHERE MondaySchedule = 1 LIMIT 10\"\u001b[0m\u001b[36;1m\u001b[1;3m[(1002, datetime.timedelta(seconds=55800), 110), (1004, datetime.timedelta(seconds=28800), 50), (1006, datetime.timedelta(seconds=32400), 110), (1030, datetime.timedelta(seconds=39600), 50), (1031, datetime.timedelta(seconds=50400), 50), (1156, datetime.timedelta(seconds=57600), 50), (1162, datetime.timedelta(seconds=32400), 140), (1168, datetime.timedelta(seconds=39600), 50), (1180, datetime.timedelta(seconds=41400), 140), (1183, datetime.timedelta(seconds=46800), 50)]\u001b[0m\u001b[32;1m\u001b[1;3mI now have the class IDs, start times, and durations for classes scheduled on Monday. I can format this information into a more readable form for the final answer.\n",
      "Final Answer: Here are some classes scheduled for Monday:\n",
      "- Class 1002: Starts at 15:30, Duration: 110 minutes\n",
      "- Class 1004: Starts at 08:00, Duration: 50 minutes\n",
      "- Class 1006: Starts at 09:00, Duration: 110 minutes\n",
      "- Class 1030: Starts at 11:00, Duration: 50 minutes\n",
      "- Class 1031: Starts at 14:00, Duration: 50 minutes\n",
      "- Class 1156: Starts at 16:00, Duration: 50 minutes\n",
      "- Class 1162: Starts at 09:00, Duration: 140 minutes\n",
      "- Class 1168: Starts at 11:00, Duration: 50 minutes\n",
      "- Class 1180: Starts at 11:30, Duration: 140 minutes\n",
      "- Class 1183: Starts at 13:00, Duration: 50 minutes\u001b[0m\n",
      "\n",
      "\u001b[1m> Finished chain.\u001b[0m\n"
     ]
    },
    {
     "data": {
      "text/plain": [
       "'Here are some classes scheduled for Monday:\\n- Class 1002: Starts at 15:30, Duration: 110 minutes\\n- Class 1004: Starts at 08:00, Duration: 50 minutes\\n- Class 1006: Starts at 09:00, Duration: 110 minutes\\n- Class 1030: Starts at 11:00, Duration: 50 minutes\\n- Class 1031: Starts at 14:00, Duration: 50 minutes\\n- Class 1156: Starts at 16:00, Duration: 50 minutes\\n- Class 1162: Starts at 09:00, Duration: 140 minutes\\n- Class 1168: Starts at 11:00, Duration: 50 minutes\\n- Class 1180: Starts at 11:30, Duration: 140 minutes\\n- Class 1183: Starts at 13:00, Duration: 50 minutes'"
      ]
     },
     "execution_count": 53,
     "metadata": {},
     "output_type": "execute_result"
    }
   ],
   "source": [
    "agent_executer.run(\"What is the schedule for monday\")"
   ]
  },
  {
   "cell_type": "code",
   "execution_count": null,
   "metadata": {},
   "outputs": [],
   "source": []
  }
 ],
 "metadata": {
  "kernelspec": {
   "display_name": "base",
   "language": "python",
   "name": "python3"
  },
  "language_info": {
   "codemirror_mode": {
    "name": "ipython",
    "version": 3
   },
   "file_extension": ".py",
   "mimetype": "text/x-python",
   "name": "python",
   "nbconvert_exporter": "python",
   "pygments_lexer": "ipython3",
   "version": "3.11.4"
  }
 },
 "nbformat": 4,
 "nbformat_minor": 2
}
